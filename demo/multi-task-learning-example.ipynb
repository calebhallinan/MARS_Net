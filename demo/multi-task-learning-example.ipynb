{
 "cells": [
  {
   "cell_type": "code",
   "execution_count": 1,
   "metadata": {
    "collapsed": false
   },
   "outputs": [],
   "source": [
    "import os\n",
    "# tensorflow import must come after os.environ gpu setting\n",
    "os.environ[\"CUDA_VISIBLE_DEVICES\"] = '0'\n",
    "import sys\n",
    "import numpy as np\n",
    "np.random.seed(0)\n"
   ]
  },
  {
   "cell_type": "code",
   "execution_count": 2,
   "metadata": {
    "collapsed": false
   },
   "outputs": [],
   "source": [
    "from tensorflow.keras.layers import Input, Dense, Lambda, Layer\n",
    "from tensorflow.keras.initializers import Constant\n",
    "from tensorflow.keras.models import Model\n",
    "from tensorflow.keras import backend as K\n",
    "import tensorflow as tf\n",
    "import tensorflow_addons as tfa\n",
    "\n",
    "from tensorflow.python.ops import math_ops\n",
    "# Custom loss layer\n",
    "class CustomMultiLossLayer(Layer):\n",
    "    def __init__(self, nb_outputs=2, **kwargs):\n",
    "        self.nb_outputs = nb_outputs\n",
    "        self.is_placeholder = True\n",
    "        super(CustomMultiLossLayer, self).__init__(**kwargs)\n",
    "\n",
    "    def build(self, input_shape=None):\n",
    "        # initialise log_vars\n",
    "        self.log_vars = []\n",
    "        for i in range(self.nb_outputs):\n",
    "            self.log_vars += [self.add_weight(name='log_var' + str(i), shape=(1,),\n",
    "                                              initializer=Constant(1.), trainable=True)]\n",
    "        super().build(input_shape)\n",
    "\n",
    "    def multi_loss(self, ys_true, ys_pred):\n",
    "        assert len(ys_true) == self.nb_outputs and len(ys_pred) == self.nb_outputs\n",
    "        loss = 0\n",
    "        for i, (y_true, y_pred, log_var) in enumerate(zip(ys_true, ys_pred, self.log_vars)):\n",
    "            if i == 0:\n",
    "                loss += K.sum((y_true - y_pred)**2.)\n",
    "                # tf.print('regression', loss, log_var[0])\n",
    "            else:\n",
    "                loss += K.sum(tfa.losses.sigmoid_focal_crossentropy(y_true, y_pred, alpha=0.5, from_logits=False)) # + tf.math.log(log_var[0])\n",
    "                # loss += precision * K.sum(tfa.losses.sigmoid_focal_crossentropy(y_true, y_pred, alpha=0.5, from_logits=False)) + log_var[0]\n",
    "                # tf.print('classificaiton', loss, log_var[0])\n",
    "        return loss\n",
    "\n",
    "    def call(self, inputs):\n",
    "        ys_true = inputs[:self.nb_outputs]\n",
    "        ys_pred = inputs[self.nb_outputs:]\n",
    "        loss = self.multi_loss(ys_true, ys_pred)\n",
    "        self.add_loss(loss, inputs=inputs)\n",
    "        # We won't actually use the output.\n",
    "        return loss"
   ]
  },
  {
   "cell_type": "markdown",
   "metadata": {},
   "source": [
    "# Evaluate on synthetic data"
   ]
  },
  {
   "cell_type": "code",
   "execution_count": 3,
   "metadata": {
    "collapsed": false
   },
   "outputs": [],
   "source": [
    "N = 500\n",
    "nb_epoch = 100\n",
    "batch_size = 64\n",
    "nb_features = 1024\n",
    "Q = 1\n",
    "D1 = 1  # first output\n",
    "D2 = 1  # second output"
   ]
  },
  {
   "cell_type": "code",
   "execution_count": 4,
   "metadata": {
    "collapsed": false
   },
   "outputs": [],
   "source": [
    "def gen_data(N):\n",
    "    X = np.random.randn(N, Q)\n",
    "    X_test = np.random.randn(N, Q)\n",
    "\n",
    "    w1 = 8\n",
    "    b1 = 2\n",
    "    sigma1 = 1  # ground truth\n",
    "    Y1 = X.dot(w1) + b1 + sigma1 * np.random.randn(N, D1)\n",
    "    Y1_test = X.dot(w1) + b1 + sigma1 * np.random.randn(N, D1)\n",
    "\n",
    "    # normalize\n",
    "    # Y1 = Y1 + np.absolute(np.amin(Y1))\n",
    "    # Y1 = Y1/np.amax(Y1)\n",
    "\n",
    "    # w2 = 3\n",
    "    # b2 = 3.\n",
    "    # sigma2 = 1e0  # ground truth\n",
    "    # Y2 = X.dot(w2) + b2 + sigma2 * np.random.randn(N, D2)\n",
    "    Y2 = np.random.randn(N, D2) > 0\n",
    "    Y2_test = np.random.randn(N, D2) > 0\n",
    "    return X, Y1, Y2, X_test, Y1_test, Y2_test"
   ]
  },
  {
   "cell_type": "code",
   "execution_count": 5,
   "metadata": {
    "collapsed": false
   },
   "outputs": [
    {
     "name": "stdout",
     "output_type": "stream",
     "text": [
      "243 257\n"
     ]
    },
    {
     "data": {
      "text/plain": "<Figure size 216x108 with 1 Axes>",
      "image/png": "[encoded data removed]"
     },
     "metadata": {
      "needs_background": "light"
     },
     "output_type": "display_data"
    }
   ],
   "source": [
    "import pylab\n",
    "%matplotlib inline\n",
    "\n",
    "X, Y1, Y2, X_test, Y1_test, Y2_test = gen_data(N)\n",
    "pylab.figure(figsize=(3, 1.5))\n",
    "pylab.scatter(X[:, 0], Y1[:, 0])\n",
    "pylab.scatter(X[:, 0], Y2[:, 0])\n",
    "print(np.sum(Y2>0), np.sum(Y2==0))\n",
    "pylab.show()"
   ]
  },
  {
   "cell_type": "code",
   "execution_count": 6,
   "outputs": [],
   "source": [
    "def get_prediction_model():\n",
    "    inp = Input(shape=(Q,), name='inp')\n",
    "    x = Dense(nb_features, activation='relu')(inp)\n",
    "    x = Dense(nb_features, activation='relu')(x)\n",
    "\n",
    "    y1_pred = Dense(D1, name='regressor')(x)\n",
    "    y2_pred = Dense(D2, activation='sigmoid', name='classifier')(x)\n",
    "\n",
    "    return Model(inp, [y1_pred, y2_pred])\n",
    "\n",
    "def get_trainable_model(prediction_model):\n",
    "    inp = Input(shape=(Q,), name='inp')\n",
    "    y1_pred, y2_pred = prediction_model(inp)\n",
    "    y1_true = Input(shape=(D1,), name='y1_true')\n",
    "    y2_true = Input(shape=(D2,), name='y2_true')\n",
    "    out = CustomMultiLossLayer(nb_outputs=2)([y1_true, y2_true, y1_pred, y2_pred])\n",
    "    return Model([inp, y1_true, y2_true], out)\n",
    "\n",
    "prediction_model = get_prediction_model()"
   ],
   "metadata": {
    "collapsed": false,
    "pycharm": {
     "name": "#%%\n"
    }
   }
  },
  {
   "cell_type": "code",
   "execution_count": 7,
   "outputs": [
    {
     "name": "stdout",
     "output_type": "stream",
     "text": [
      "WARNING:tensorflow:Gradients do not exist for variables ['custom_multi_loss_layer/log_var0:0', 'custom_multi_loss_layer/log_var1:0'] when minimizing the loss.\n",
      "WARNING:tensorflow:Gradients do not exist for variables ['custom_multi_loss_layer/log_var0:0', 'custom_multi_loss_layer/log_var1:0'] when minimizing the loss.\n"
     ]
    },
    {
     "data": {
      "text/plain": "[<matplotlib.lines.Line2D at 0x1d7aaf53b00>]"
     },
     "execution_count": 7,
     "metadata": {},
     "output_type": "execute_result"
    },
    {
     "data": {
      "text/plain": "<Figure size 432x288 with 1 Axes>",
      "image/png": "[encoded data removed]"
     },
     "metadata": {
      "needs_background": "light"
     },
     "output_type": "display_data"
    }
   ],
   "source": [
    "trainable_model = get_trainable_model(prediction_model)\n",
    "\n",
    "trainable_model.compile(optimizer='adam', loss=None)\n",
    "assert len(trainable_model.losses) == 1\n",
    "hist = trainable_model.fit([X, Y1, Y2], epochs=nb_epoch, batch_size=batch_size, verbose=0)\n",
    "\n",
    "pylab.plot(hist.history['loss'])"
   ],
   "metadata": {
    "collapsed": false,
    "pycharm": {
     "name": "#%%\n"
    }
   }
  },
  {
   "cell_type": "code",
   "execution_count": 8,
   "outputs": [
    {
     "name": "stdout",
     "output_type": "stream",
     "text": [
      "2.4.0\n",
      "(500, 1)\n",
      "(500, 1)\n",
      "regression: 129.215607\r\n",
      "Classification: 0.52\r\n",
      "120 147 93 140 0.05073892035370996 \n",
      "\n"
     ]
    }
   ],
   "source": [
    "from sklearn.metrics import confusion_matrix, matthews_corrcoef\n",
    "\n",
    "# new_prediction_model = get_prediction_model()\n",
    "# pred_output = new_prediction_model.predict(X)\n",
    "pred_output = prediction_model.predict(X_test)\n",
    "\n",
    "print(tf.__version__)\n",
    "print(pred_output[0].shape)\n",
    "print(pred_output[1].shape)\n",
    "\n",
    "m = tf.keras.metrics.MeanSquaredError()\n",
    "m.update_state(Y1_test, pred_output[0])\n",
    "tf.print('regression:',m.result())\n",
    "\n",
    "threshold=0.5\n",
    "m = tf.keras.metrics.BinaryAccuracy()\n",
    "m.update_state(Y2_test, pred_output[1]>threshold)\n",
    "tf.print('Classification:', m.result())\n",
    "tn, fp, fn, tp = confusion_matrix(Y2_test, pred_output[1]>threshold).ravel()\n",
    "mcc = matthews_corrcoef(Y2_test, pred_output[1]>threshold)\n",
    "print(tn, fp, fn, tp, mcc, '\\n')\n",
    "\n",
    "# print(Y1_test[:10,0])\n",
    "# print(pred_output[0][:10,0])\n",
    "# print(Y2_test[:50,0])\n",
    "# print(pred_output[1][:50,0])\n"
   ],
   "metadata": {
    "collapsed": false,
    "pycharm": {
     "name": "#%%\n"
    }
   }
  },
  {
   "cell_type": "code",
   "execution_count": 9,
   "metadata": {
    "collapsed": false,
    "pycharm": {
     "name": "#%%\n"
    }
   },
   "outputs": [
    {
     "data": {
      "text/plain": "[1.64872124566606, 1.64872124566606]"
     },
     "execution_count": 9,
     "metadata": {},
     "output_type": "execute_result"
    }
   ],
   "source": [
    "# Found standard deviations (ground truth is 10 and 1):\n",
    "[np.exp(K.get_value(log_var[0]))**0.5 for log_var in trainable_model.layers[-1].log_vars]\n"
   ]
  }
 ],
 "metadata": {
  "kernelspec": {
   "name": "python3",
   "language": "python",
   "display_name": "Python 3"
  },
  "language_info": {
   "codemirror_mode": {
    "name": "ipython",
    "version": 2
   },
   "file_extension": ".py",
   "mimetype": "text/x-python",
   "name": "python",
   "nbconvert_exporter": "python",
   "pygments_lexer": "ipython2",
   "version": "2.7.6"
  }
 },
 "nbformat": 4,
 "nbformat_minor": 0
}